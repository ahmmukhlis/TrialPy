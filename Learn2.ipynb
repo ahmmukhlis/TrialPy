{
 "cells": [
  {
   "cell_type": "markdown",
   "id": "0709e64f-6de3-4a04-9c0d-197ac55fc371",
   "metadata": {},
   "source": [
    "# Learn_2 (Function)"
   ]
  },
  {
   "cell_type": "markdown",
   "id": "ff9d5795-a8f7-4136-bdc3-8ce955fcb808",
   "metadata": {},
   "source": [
    "## Function"
   ]
  },
  {
   "cell_type": "code",
   "execution_count": 1,
   "id": "b22ae0e1-d086-41e4-ba32-33b0948ca773",
   "metadata": {},
   "outputs": [
    {
     "name": "stdout",
     "output_type": "stream",
     "text": [
      "36\n"
     ]
    }
   ],
   "source": [
    "def area (l1, l2):\n",
    "    \"Area measurement\"  ###Docstring (Documentation String)###\n",
    "    print (l1 * l2)\n",
    "area (4,9)\n"
   ]
  },
  {
   "cell_type": "code",
   "execution_count": 2,
   "id": "2be15efa-2be2-430c-80e8-51ddb841db01",
   "metadata": {},
   "outputs": [
    {
     "name": "stdout",
     "output_type": "stream",
     "text": [
      "171\n"
     ]
    }
   ],
   "source": [
    "area (9,19)"
   ]
  },
  {
   "cell_type": "code",
   "execution_count": 3,
   "id": "1f4deae1-ded8-4155-ab10-5912912338cd",
   "metadata": {},
   "outputs": [
    {
     "data": {
      "text/plain": [
       "<function __main__.hi(str)>"
      ]
     },
     "execution_count": 3,
     "metadata": {},
     "output_type": "execute_result"
    }
   ],
   "source": [
    "def hi ( str ):\n",
    "    \"This 'hi' print a passed string into this funct\"\n",
    "    print (str)\n",
    "hi"
   ]
  },
  {
   "cell_type": "code",
   "execution_count": 4,
   "id": "39b7f2e1-daba-453f-a324-cd63d60e3865",
   "metadata": {},
   "outputs": [
    {
     "data": {
      "text/plain": [
       "<function __main__.hi(str)>"
      ]
     },
     "execution_count": 4,
     "metadata": {},
     "output_type": "execute_result"
    }
   ],
   "source": [
    "hi"
   ]
  },
  {
   "cell_type": "code",
   "execution_count": 5,
   "id": "233ee3ac-c403-4066-859d-45288cbdcef2",
   "metadata": {},
   "outputs": [],
   "source": [
    "def hi ( str ):\n",
    "    \"This 'hi' print a passed string into this funct\"\n",
    "    print (str)\n",
    "    return"
   ]
  },
  {
   "cell_type": "code",
   "execution_count": 6,
   "id": "b9fa7964-9d95-4bb2-9ed6-e0e840ae774e",
   "metadata": {},
   "outputs": [
    {
     "data": {
      "text/plain": [
       "<function __main__.hi(str)>"
      ]
     },
     "execution_count": 6,
     "metadata": {},
     "output_type": "execute_result"
    }
   ],
   "source": [
    "hi"
   ]
  },
  {
   "cell_type": "code",
   "execution_count": 9,
   "id": "c7733864-3c4c-4dea-8644-b856253ebe06",
   "metadata": {},
   "outputs": [
    {
     "name": "stdin",
     "output_type": "stream",
     "text": [
      "input your desire number 900000\n"
     ]
    },
    {
     "name": "stdout",
     "output_type": "stream",
     "text": [
      "True\n",
      "900000 is even\n"
     ]
    }
   ],
   "source": [
    "numb_input = int(input(\"input your desire number\"))\n",
    "\n",
    "def numb_checker(number):\n",
    "    if number % 2 == 0:\n",
    "        return True  ### Exit function and return True if the number is even###\n",
    "    return False  ### Otherwise, return False ###\n",
    "\n",
    "is_even = numb_checker(numb_input)\n",
    "print(is_even)\n",
    "\n",
    "if is_even is True:\n",
    "    print (f\"{numb_input} is even\")\n",
    "else: \n",
    "    print (f\"{numb_input} is odd\")\n"
   ]
  },
  {
   "cell_type": "code",
   "execution_count": 10,
   "id": "6f138a69-11f5-478a-a6e2-0bfc939e7805",
   "metadata": {},
   "outputs": [
    {
     "name": "stdin",
     "output_type": "stream",
     "text": [
      "input your desire number 9099990\n"
     ]
    },
    {
     "name": "stdout",
     "output_type": "stream",
     "text": [
      "9099990 is even\n"
     ]
    }
   ],
   "source": [
    "numb_input = int(input(\"input your desire number\"))\n",
    "\n",
    "if numb_input % 2 == 0:\n",
    "    print(f\"{numb_input} is even\")\n",
    "else:\n",
    "    print(f\"{numb_input} is odd\")\n"
   ]
  },
  {
   "cell_type": "markdown",
   "id": "c176853c-38eb-4b83-aa0e-d1f207f63a1b",
   "metadata": {},
   "source": [
    "### Calling Function"
   ]
  },
  {
   "cell_type": "code",
   "execution_count": 11,
   "id": "3242aa4f-a89f-481e-bd1e-e7b608b4e2ca",
   "metadata": {},
   "outputs": [
    {
     "name": "stdout",
     "output_type": "stream",
     "text": [
      "My learn journey\n",
      "Journey 2\n"
     ]
    }
   ],
   "source": [
    "def hi ( str ):\n",
    "    \"This 'hi' print a passed string into this funct\"\n",
    "    print (str)\n",
    "    return\n",
    "    \n",
    "hi (\"My learn journey\")\n",
    "hi (\"Journey 2\")"
   ]
  },
  {
   "cell_type": "code",
   "execution_count": 12,
   "id": "87c7d780-0844-45e5-8415-0b412f53dad5",
   "metadata": {},
   "outputs": [
    {
     "name": "stdout",
     "output_type": "stream",
     "text": [
      "My learn journey\n",
      "Journey 2\n"
     ]
    }
   ],
   "source": [
    "def hi ( str ):\n",
    "    \"This 'hi' print a passed string into this funct\"\n",
    "    print (str)\n",
    "    \n",
    "hi (\"My learn journey\")\n",
    "hi (\"Journey 2\")"
   ]
  },
  {
   "cell_type": "markdown",
   "id": "aaa9a393-5d45-4b42-bfed-bcc8dc2952c9",
   "metadata": {},
   "source": [
    "### Pass by Ref"
   ]
  },
  {
   "cell_type": "code",
   "execution_count": 13,
   "id": "7b3f9d22-daa4-4bc4-9917-214e8bb06f85",
   "metadata": {},
   "outputs": [
    {
     "name": "stdout",
     "output_type": "stream",
     "text": [
      "Values inside my abc: [7, 8, 9, [1, 3, 5]]\n",
      "Values outside my abc: [7, 8, 9, [1, 3, 5]]\n"
     ]
    }
   ],
   "source": [
    "def abc (mylist):\n",
    "    mylist.append([1,3,5])\n",
    "    print(f\"Values inside my abc: {mylist}\")\n",
    "    return\n",
    "\n",
    "mylist = [7,8,9]\n",
    "abc (mylist)\n",
    "print(f\"Values outside my abc: {mylist}\")"
   ]
  },
  {
   "cell_type": "code",
   "execution_count": 14,
   "id": "27930b37-c251-4242-909c-962b5b4ad08f",
   "metadata": {},
   "outputs": [
    {
     "name": "stdout",
     "output_type": "stream",
     "text": [
      "Values inside my abc: [1, 3, 5]\n",
      "Values outside my abc: [7, 8, 9]\n"
     ]
    }
   ],
   "source": [
    "def abc (mylist):\n",
    "    mylist = ([1,3,5])\n",
    "    print(f\"Values inside my abc: {mylist}\")\n",
    "    return\n",
    "\n",
    "mylist = [7,8,9]\n",
    "abc (mylist)\n",
    "print(f\"Values outside my abc: {mylist}\")"
   ]
  },
  {
   "cell_type": "markdown",
   "id": "14c1bea2-144c-45b0-9cbe-fac92bfec6cd",
   "metadata": {},
   "source": [
    "### Function Arguments"
   ]
  },
  {
   "cell_type": "code",
   "execution_count": 15,
   "id": "4a2610d0-4d51-4d9d-98b1-a22f1d44f76a",
   "metadata": {},
   "outputs": [
    {
     "name": "stdout",
     "output_type": "stream",
     "text": [
      "blank\n"
     ]
    }
   ],
   "source": [
    "def abd (str):\n",
    "    print (str)\n",
    "    return;\n",
    "\n",
    "abd (\"blank\")"
   ]
  },
  {
   "cell_type": "code",
   "execution_count": 16,
   "id": "8de68477-e7e9-4deb-b055-dd8e14393a59",
   "metadata": {},
   "outputs": [
    {
     "name": "stdout",
     "output_type": "stream",
     "text": [
      "Test1\n"
     ]
    }
   ],
   "source": [
    "def abd (afgd):\n",
    "    print (afgd)\n",
    "    return;\n",
    "\n",
    "abd (\"Test1\")"
   ]
  },
  {
   "cell_type": "code",
   "execution_count": 17,
   "id": "7171ac29-6d83-4ed1-bbb4-8e94e85c4730",
   "metadata": {},
   "outputs": [
    {
     "name": "stdout",
     "output_type": "stream",
     "text": [
      "Test1\n"
     ]
    }
   ],
   "source": [
    "def abd (afgd): #look at afgd\n",
    "    print (afgd) \n",
    "    return;\n",
    "\n",
    "abd (afgd = \"Test1\") #afgd = ... --> the function"
   ]
  },
  {
   "cell_type": "code",
   "execution_count": 18,
   "id": "bd301d37-417e-4345-aebd-56c7f8559529",
   "metadata": {},
   "outputs": [
    {
     "name": "stdout",
     "output_type": "stream",
     "text": [
      "Name: Leo\n",
      "Gender: Male\n",
      "Age: 37\n"
     ]
    }
   ],
   "source": [
    "def mybio (name, gender, age): #Another example\n",
    "    print (f\"Name: {name}\")\n",
    "    print (f\"Gender: {gender}\")\n",
    "    print (f\"Age: {age}\")\n",
    "    return;\n",
    "\n",
    "mybio (gender = \"Male\", name = \"Leo\", age = 37)"
   ]
  },
  {
   "cell_type": "code",
   "execution_count": 19,
   "id": "bff042f2-3110-4016-9b0b-76762a95a881",
   "metadata": {},
   "outputs": [
    {
     "name": "stdout",
     "output_type": "stream",
     "text": [
      "Name: Leo\n",
      "Gender: Male\n",
      "Age: 37\n",
      "Name: kiro\n",
      "Gender: Male\n",
      "Age: 20\n"
     ]
    }
   ],
   "source": [
    "def mybio (name, gender, age=20): #Default arguments\n",
    "    print (f\"Name: {name}\")\n",
    "    print (f\"Gender: {gender}\")\n",
    "    print (f\"Age: {age}\")\n",
    "    return;\n",
    "\n",
    "mybio (gender = \"Male\", name = \"Leo\", age = 37)\n",
    "mybio (gender = \"Male\", name = \"kiro\")"
   ]
  },
  {
   "cell_type": "code",
   "execution_count": 20,
   "id": "fd572452-4c1c-419d-80c6-c272119f48b5",
   "metadata": {},
   "outputs": [
    {
     "name": "stdout",
     "output_type": "stream",
     "text": [
      "The Output is: \n",
      "10\n",
      "20\n",
      "The Output is: \n",
      "11\n",
      "15\n",
      "17\n",
      "k\n"
     ]
    }
   ],
   "source": [
    "def aaa(arg1, *arg2): #Variable-length argument\n",
    "    print(f\"The Output is: \")\n",
    "    print(f\"{arg1}\")\n",
    "    for var in arg2:\n",
    "        print(var)\n",
    "    return;\n",
    "\n",
    "aaa (10,20)\n",
    "aaa (11,15,17, \"k\")"
   ]
  },
  {
   "cell_type": "code",
   "execution_count": 21,
   "id": "3a5db8a6-a7c5-42ff-945c-8fdda6a74723",
   "metadata": {},
   "outputs": [
    {
     "ename": "TypeError",
     "evalue": "mybio() takes 1 positional argument but 2 were given",
     "output_type": "error",
     "traceback": [
      "\u001b[1;31m---------------------------------------------------------------------------\u001b[0m",
      "\u001b[1;31mTypeError\u001b[0m                                 Traceback (most recent call last)",
      "Cell \u001b[1;32mIn[21], line 5\u001b[0m\n\u001b[0;32m      2\u001b[0m     \u001b[38;5;28mprint\u001b[39m (\u001b[38;5;124mf\u001b[39m\u001b[38;5;124m\"\u001b[39m\u001b[38;5;124mName: \u001b[39m\u001b[38;5;132;01m{\u001b[39;00mname\u001b[38;5;132;01m}\u001b[39;00m\u001b[38;5;124m\"\u001b[39m)\n\u001b[0;32m      3\u001b[0m     \u001b[38;5;28;01mreturn\u001b[39;00m;\n\u001b[1;32m----> 5\u001b[0m \u001b[43mmybio\u001b[49m\u001b[43m \u001b[49m\u001b[43m(\u001b[49m\u001b[38;5;124;43m\"\u001b[39;49m\u001b[38;5;124;43mkiki\u001b[39;49m\u001b[38;5;124;43m\"\u001b[39;49m\u001b[43m,\u001b[49m\u001b[43m \u001b[49m\u001b[38;5;124;43m\"\u001b[39;49m\u001b[38;5;124;43mkoko\u001b[39;49m\u001b[38;5;124;43m\"\u001b[39;49m\u001b[43m)\u001b[49m \u001b[38;5;66;03m#mybio() takes 1 positional argument but 2 were given\u001b[39;00m\n",
      "\u001b[1;31mTypeError\u001b[0m: mybio() takes 1 positional argument but 2 were given"
     ]
    }
   ],
   "source": [
    "def mybio (name):\n",
    "    print (f\"Name: {name}\")\n",
    "    return;\n",
    "\n",
    "mybio (\"kiki\", \"koko\") #mybio() takes 1 positional argument but 2 were given"
   ]
  },
  {
   "cell_type": "code",
   "execution_count": 22,
   "id": "3f350181-5724-4f3d-8ee6-b28811cd3e6f",
   "metadata": {},
   "outputs": [
    {
     "name": "stdout",
     "output_type": "stream",
     "text": [
      "Name: kiki\n",
      "New Name: Lolo\n",
      "New Name: kado\n",
      "Name: Kaka\n",
      "New Name: Kako\n"
     ]
    }
   ],
   "source": [
    "def mybio (name, *name2): #Another var-length arguments\n",
    "    print (f\"Name: {name}\")\n",
    "    for var in name2:\n",
    "        print (f\"New Name: {var}\")\n",
    "    return;\n",
    "\n",
    "mybio (\"kiki\", \"Lolo\", \"kado\") \n",
    "mybio (\"Kaka\", \"Kako\")"
   ]
  },
  {
   "cell_type": "code",
   "execution_count": 23,
   "id": "694d697c-fff7-49c9-9470-ac5606ac815b",
   "metadata": {},
   "outputs": [
    {
     "name": "stdout",
     "output_type": "stream",
     "text": [
      " Total Value: 13\n",
      " Total Value: 19\n"
     ]
    }
   ],
   "source": [
    "amb = lambda a1, a2: a1+a2 #Anonymous Function\n",
    "\n",
    "def amb(a1, a2):\n",
    "    return a1+a2\n",
    "\n",
    "print (f\" Total Value: {amb(10,3)}\")\n",
    "print (f\" Total Value: {amb(10,9)}\")"
   ]
  },
  {
   "cell_type": "code",
   "execution_count": 24,
   "id": "70e07d95-64a7-432a-991b-6c0984f950b6",
   "metadata": {},
   "outputs": [
    {
     "name": "stdout",
     "output_type": "stream",
     "text": [
      " Total Value: 13\n",
      " Total Value: 19\n"
     ]
    }
   ],
   "source": [
    "def amb(a1, a2): #The same code as before, the same result\n",
    "    return a1+a2 \n",
    "\n",
    "print (f\" Total Value: {amb(10,3)}\")\n",
    "print (f\" Total Value: {amb(10,9)}\")"
   ]
  },
  {
   "cell_type": "code",
   "execution_count": 25,
   "id": "2b232297-022f-49af-a59b-be4a7c067294",
   "metadata": {},
   "outputs": [
    {
     "name": "stdout",
     "output_type": "stream",
     "text": [
      "Total value: 13\n",
      "Total value: 19\n"
     ]
    }
   ],
   "source": [
    "simple_add = lambda a1, a2: a1 + a2 #New mod lambda expression\n",
    "\n",
    "def amb(a1, a2):\n",
    "    result = simple_add(a1, a2)\n",
    "    return f\"Total value: {result}\" # Don't add print() since #\n",
    "                                    # it will produce None in your code #\n",
    "print(amb(10, 3))\n",
    "print(amb(10, 9))\n"
   ]
  },
  {
   "cell_type": "code",
   "execution_count": 43,
   "id": "0db439c6-d969-4bc6-b78b-57b04170af03",
   "metadata": {},
   "outputs": [
    {
     "name": "stdout",
     "output_type": "stream",
     "text": [
      "Values inside my abcde: 8\n",
      "Values outside my abcde: 13\n"
     ]
    }
   ],
   "source": [
    "def abcde (a1, a2):    #Return Statement 1\n",
    "    totala = a1 + a2\n",
    "    totali = totala + a2\n",
    "    print(f\"Values inside my abcde: {totala}\")\n",
    "    return totali\n",
    "    \n",
    "totala = abcde(3, 5)\n",
    "print(f\"Values outside my abcde: {totala}\")"
   ]
  },
  {
   "cell_type": "code",
   "execution_count": 37,
   "id": "6db43c49-bbf2-4b18-9c7c-d67afa5caa2a",
   "metadata": {},
   "outputs": [
    {
     "name": "stdout",
     "output_type": "stream",
     "text": [
      "Values inside my abcde: 8\n",
      "Values outside my abcde: 8, 13\n"
     ]
    }
   ],
   "source": [
    "def abcde (a1, a2): #Return Statement 2\n",
    "    total7 = a1 + a2\n",
    "    total8 = total7 + a2\n",
    "    print(f\"Values inside my abcde: {total7}\")\n",
    "    return total7, total8\n",
    "\n",
    "total7, total8 = abcde(3, 5)\n",
    "print(f\"Values outside my abcde: {total7}, {total8}\")"
   ]
  },
  {
   "cell_type": "code",
   "execution_count": 73,
   "id": "cfcbdbe8-1884-4519-a21f-1166f4c30ceb",
   "metadata": {},
   "outputs": [
    {
     "name": "stdout",
     "output_type": "stream",
     "text": [
      "Values inside my abcd: 8\n",
      "Values outside my abcd: 8, 13 and 28\n"
     ]
    }
   ],
   "source": [
    "def abcd (a1, a2, a3): #Return Statement 3\n",
    "    total = a1 + a2\n",
    "    total2 = total + a2\n",
    "    total3 = total + total2 + a3\n",
    "    print(f\"Values inside my abcd: {total}\")\n",
    "    return total, total2, total3\n",
    "\n",
    "total, total2, total3 = abcd(3, 5, 7)\n",
    "print(f\"Values outside my abcd: {total}, {total2} and {total3}\")"
   ]
  },
  {
   "cell_type": "markdown",
   "id": "28f19aea-f7fe-4157-bf3e-9b2fcb830494",
   "metadata": {},
   "source": [
    "### Variable Scope"
   ]
  },
  {
   "cell_type": "code",
   "execution_count": 80,
   "id": "c7a6477c-27cc-4718-8b5b-96de9928587b",
   "metadata": {},
   "outputs": [
    {
     "name": "stdout",
     "output_type": "stream",
     "text": [
      "15\n",
      "0\n"
     ]
    }
   ],
   "source": [
    "Total9 = 0 \n",
    "def sum (c1, c2):\n",
    "    total9 = c1+c2\n",
    "    print (total9)\n",
    "    return total9\n",
    "\n",
    "sum (10,5)\n",
    "print (total9)"
   ]
  },
  {
   "cell_type": "code",
   "execution_count": 91,
   "id": "f63d4c36-ce61-41ff-be3a-d19cb574a22e",
   "metadata": {},
   "outputs": [
    {
     "name": "stdout",
     "output_type": "stream",
     "text": [
      "Before: 15\n",
      "After: 0\n"
     ]
    }
   ],
   "source": [
    "Total10 = 0   #this is your global variable\n",
    "\n",
    "def sum (d1, d2):\n",
    "    total10 = d1 + d2   #and your local\n",
    "    print(\"Before:\", total10)\n",
    "    return total10\n",
    "\n",
    "sum (10, 5)\n",
    "print(\"After:\", total10)"
   ]
  },
  {
   "cell_type": "code",
   "execution_count": 96,
   "id": "4ca309c5-9b77-4a3b-8cff-8442993b2b4f",
   "metadata": {},
   "outputs": [
    {
     "data": {
      "text/plain": [
       "50"
      ]
     },
     "execution_count": 96,
     "metadata": {},
     "output_type": "execute_result"
    }
   ],
   "source": [
    "cat_total = 25\n",
    "\n",
    "def pet_total():\n",
    "    dog_total = 45\n",
    "    return cat_total + dog_total\n",
    "\n",
    "def rab_total():\n",
    "    return cat_total + cat_total\n",
    "\n",
    "pet_total()\n",
    "rab_total() #The result only shows the last command/code, since you did't add print or \n",
    "            #assign pet total () into a value/function"
   ]
  },
  {
   "cell_type": "code",
   "execution_count": null,
   "id": "70ebbaa0-694b-4ee7-acae-9d7d1fb4e9dc",
   "metadata": {},
   "outputs": [],
   "source": []
  }
 ],
 "metadata": {
  "kernelspec": {
   "display_name": "Python 3 (ipykernel)",
   "language": "python",
   "name": "python3"
  },
  "language_info": {
   "codemirror_mode": {
    "name": "ipython",
    "version": 3
   },
   "file_extension": ".py",
   "mimetype": "text/x-python",
   "name": "python",
   "nbconvert_exporter": "python",
   "pygments_lexer": "ipython3",
   "version": "3.11.9"
  }
 },
 "nbformat": 4,
 "nbformat_minor": 5
}
