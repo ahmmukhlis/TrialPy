{
 "cells": [
  {
   "cell_type": "code",
   "execution_count": 2,
   "id": "1a3be828-532e-4940-977b-155e590588c4",
   "metadata": {},
   "outputs": [],
   "source": [
    "import sys\n",
    "sys.path.append('./Module/')\n",
    "from Module import mod2"
   ]
  },
  {
   "cell_type": "code",
   "execution_count": 3,
   "id": "c743e269-85f2-43be-bb36-1f2987122050",
   "metadata": {},
   "outputs": [
    {
     "data": {
      "text/plain": [
       "'My Journey to Be A Data Scientist'"
      ]
     },
     "execution_count": 3,
     "metadata": {},
     "output_type": "execute_result"
    }
   ],
   "source": [
    "mod2.a"
   ]
  },
  {
   "cell_type": "code",
   "execution_count": null,
   "id": "2a709c84-ed2b-4e98-81e5-151ed26819e4",
   "metadata": {},
   "outputs": [],
   "source": []
  }
 ],
 "metadata": {
  "kernelspec": {
   "display_name": "Python 3 (ipykernel)",
   "language": "python",
   "name": "python3"
  },
  "language_info": {
   "codemirror_mode": {
    "name": "ipython",
    "version": 3
   },
   "file_extension": ".py",
   "mimetype": "text/x-python",
   "name": "python",
   "nbconvert_exporter": "python",
   "pygments_lexer": "ipython3",
   "version": "3.11.9"
  }
 },
 "nbformat": 4,
 "nbformat_minor": 5
}
