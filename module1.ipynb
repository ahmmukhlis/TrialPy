{
 "cells": [
  {
   "cell_type": "code",
   "execution_count": 10,
   "id": "7015fbbc-942b-46f8-a465-dfc0f0c5e19e",
   "metadata": {},
   "outputs": [],
   "source": [
    "import sys\n",
    "sys.path.insert(0, \".\")"
   ]
  },
  {
   "cell_type": "code",
   "execution_count": 11,
   "id": "554d7549-5b90-47f4-b079-63a1ea5345fe",
   "metadata": {},
   "outputs": [],
   "source": [
    "a = \"My Journey to Be A Data Scientist\""
   ]
  },
  {
   "cell_type": "code",
   "execution_count": 12,
   "id": "a4f30e16-6db3-4568-96e6-a43ae47ef6d7",
   "metadata": {},
   "outputs": [],
   "source": [
    "b = [1000, 2000, 3000]"
   ]
  },
  {
   "cell_type": "code",
   "execution_count": 13,
   "id": "c8810453-355c-454a-8090-1aa0a3951524",
   "metadata": {},
   "outputs": [],
   "source": [
    "def abc (arg):\n",
    "    print(f\"arg = {arg}\")"
   ]
  },
  {
   "cell_type": "code",
   "execution_count": 14,
   "id": "8896f2a9-4741-4b2e-9d0e-53e32b7798a3",
   "metadata": {},
   "outputs": [],
   "source": [
    "class abc:\n",
    "    pass"
   ]
  },
  {
   "cell_type": "code",
   "execution_count": null,
   "id": "62ea9f87-e3aa-4047-aed9-f8d04eca1985",
   "metadata": {},
   "outputs": [],
   "source": []
  },
  {
   "cell_type": "code",
   "execution_count": null,
   "id": "7c66b589-c5df-4c60-8009-8bd10315d44c",
   "metadata": {},
   "outputs": [],
   "source": []
  },
  {
   "cell_type": "code",
   "execution_count": null,
   "id": "050075a7-5e45-42cf-9cf6-2d12a49dfb4f",
   "metadata": {},
   "outputs": [],
   "source": []
  }
 ],
 "metadata": {
  "kernelspec": {
   "display_name": "Python 3 (ipykernel)",
   "language": "python",
   "name": "python3"
  },
  "language_info": {
   "codemirror_mode": {
    "name": "ipython",
    "version": 3
   },
   "file_extension": ".py",
   "mimetype": "text/x-python",
   "name": "python",
   "nbconvert_exporter": "python",
   "pygments_lexer": "ipython3",
   "version": "3.11.9"
  }
 },
 "nbformat": 4,
 "nbformat_minor": 5
}
