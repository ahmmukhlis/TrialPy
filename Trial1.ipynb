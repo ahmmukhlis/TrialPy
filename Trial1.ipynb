{
 "cells": [
  {
   "cell_type": "markdown",
   "id": "bc1330b7-bacb-4c72-8d72-41998b413c09",
   "metadata": {},
   "source": [
    "# Trial While Loops"
   ]
  },
  {
   "cell_type": "markdown",
   "id": "b2e66025-cdf3-4031-9abf-48283a6135b4",
   "metadata": {},
   "source": [
    "## Case 1 (8/17/24)"
   ]
  },
  {
   "cell_type": "code",
   "execution_count": 2,
   "id": "ead25031-c88b-4af6-8032-e7e842080d41",
   "metadata": {},
   "outputs": [
    {
     "name": "stdout",
     "output_type": "stream",
     "text": [
      "4\n",
      "3\n",
      "2\n",
      "1\n",
      "0\n"
     ]
    }
   ],
   "source": [
    "x = 5\n",
    "while x > 0:\n",
    "    x -= 1\n",
    "    print (x)"
   ]
  },
  {
   "cell_type": "code",
   "execution_count": 9,
   "id": "89c90472-7670-4bbb-8e8f-088a9c1b11f1",
   "metadata": {},
   "outputs": [
    {
     "name": "stdout",
     "output_type": "stream",
     "text": [
      "6\n",
      "7\n",
      "8\n",
      "9\n",
      "10\n"
     ]
    }
   ],
   "source": [
    "x = 5\n",
    "while x < 10:\n",
    "    x += 1\n",
    "    print (x)"
   ]
  },
  {
   "cell_type": "code",
   "execution_count": 10,
   "id": "6ef8ff14-e420-48b0-a0ed-a07602d2a5bd",
   "metadata": {},
   "outputs": [
    {
     "name": "stdout",
     "output_type": "stream",
     "text": [
      "5\n",
      "6\n",
      "7\n",
      "8\n",
      "9\n"
     ]
    }
   ],
   "source": [
    "x = 5\n",
    "while x < 10:\n",
    "    print (x)\n",
    "    x += 1\n",
    "    "
   ]
  },
  {
   "cell_type": "code",
   "execution_count": 11,
   "id": "1341d268-0c7b-4d50-abef-7eb6243cda8d",
   "metadata": {},
   "outputs": [
    {
     "name": "stdout",
     "output_type": "stream",
     "text": [
      "Loop Ended\n"
     ]
    }
   ],
   "source": [
    "x = 5\n",
    "while x < 10:\n",
    "    x += 1\n",
    "    if x == 7:\n",
    "        break\n",
    "        print (n)\n",
    "    print ('Loop Ended')\n",
    "    "
   ]
  },
  {
   "cell_type": "markdown",
   "id": "fc9304ea-e840-4ede-b30a-2b47d9d9f663",
   "metadata": {},
   "source": [
    "## break & continue"
   ]
  },
  {
   "cell_type": "code",
   "execution_count": 19,
   "id": "814415a4-2280-41ef-8a4f-8f50056b5feb",
   "metadata": {},
   "outputs": [
    {
     "name": "stdout",
     "output_type": "stream",
     "text": [
      "4\n",
      "5\n",
      "6\n",
      "Loop Ended\n"
     ]
    }
   ],
   "source": [
    "x = 3\n",
    "while x < 10:\n",
    "    x += 1\n",
    "    if x == 7:\n",
    "        break\n",
    "    print (x)\n",
    "print ('Loop Ended')\n",
    "    "
   ]
  },
  {
   "cell_type": "code",
   "execution_count": 20,
   "id": "52585c0d-2c16-4d8f-a836-b290759d0484",
   "metadata": {},
   "outputs": [
    {
     "name": "stdout",
     "output_type": "stream",
     "text": [
      "4\n",
      "5\n",
      "6\n",
      "8\n",
      "9\n",
      "10\n",
      "Loop Ended\n"
     ]
    }
   ],
   "source": [
    "x = 3\n",
    "while x < 10:\n",
    "    x += 1\n",
    "    if x == 7:\n",
    "        continue\n",
    "    print (x)\n",
    "print ('Loop Ended')"
   ]
  },
  {
   "cell_type": "code",
   "execution_count": 21,
   "id": "a310f6fa-a178-4f45-9085-914583c8fe76",
   "metadata": {},
   "outputs": [
    {
     "name": "stdout",
     "output_type": "stream",
     "text": [
      "4\n",
      "5\n",
      "6\n",
      "7\n",
      "8\n",
      "9\n",
      "10\n",
      "Loop Ended\n"
     ]
    }
   ],
   "source": [
    "x = 3\n",
    "while x < 10:\n",
    "    x += 1\n",
    "    print (x)\n",
    "else:\n",
    "    print ('Loop Ended')"
   ]
  },
  {
   "cell_type": "code",
   "execution_count": 22,
   "id": "b91eae47-a077-43c2-83b6-cbc7f59ec909",
   "metadata": {},
   "outputs": [
    {
     "name": "stdout",
     "output_type": "stream",
     "text": [
      "4\n",
      "5\n",
      "6\n",
      "7\n",
      "8\n",
      "9\n",
      "10\n",
      "Loop Ended\n"
     ]
    }
   ],
   "source": [
    "x = 3\n",
    "while x < 10:\n",
    "    x += 1\n",
    "    print (x)\n",
    "print ('Loop Ended')"
   ]
  },
  {
   "cell_type": "code",
   "execution_count": 27,
   "id": "1f8c152c-467e-44fe-bbc9-f1fbd49ee878",
   "metadata": {},
   "outputs": [
    {
     "name": "stdout",
     "output_type": "stream",
     "text": [
      "4\n",
      "5\n",
      "6\n"
     ]
    }
   ],
   "source": [
    "x = 3\n",
    "while x < 10:\n",
    "    x += 1\n",
    "    if x == 7:\n",
    "        break\n",
    "    print (x)\n",
    "else:\n",
    "    print ('Loop Ended')"
   ]
  },
  {
   "cell_type": "code",
   "execution_count": 29,
   "id": "9de12641-65ff-47e8-8839-32b35138d8ea",
   "metadata": {},
   "outputs": [
    {
     "name": "stdout",
     "output_type": "stream",
     "text": [
      "4\n",
      "5\n",
      "6\n",
      "7\n",
      "8\n",
      "9\n",
      "10\n",
      "Loop Ended\n"
     ]
    }
   ],
   "source": [
    "x = 3\n",
    "while x < 10:\n",
    "    x += 1\n",
    "    print (x)\n",
    "else:\n",
    "    print ('Loop Ended')"
   ]
  },
  {
   "cell_type": "markdown",
   "id": "8e68f6fa-f25b-4a04-9262-d04473903639",
   "metadata": {},
   "source": [
    "## Nested While Loops"
   ]
  },
  {
   "cell_type": "code",
   "execution_count": 35,
   "id": "4c1052f1-e157-46fc-81b6-93fc51e37c33",
   "metadata": {},
   "outputs": [
    {
     "name": "stdout",
     "output_type": "stream",
     "text": [
      "foo\n",
      "> baz\n",
      "> qux\n",
      "bar\n",
      "> baz\n",
      "> qux\n"
     ]
    }
   ],
   "source": [
    "a = ['foo', 'bar']\n",
    "\n",
    "while len(a):\n",
    "    print (a.pop(0))\n",
    "\n",
    "    b = ['baz', 'qux']\n",
    "\n",
    "    while len(b):\n",
    "        print('>', b.pop(0))"
   ]
  },
  {
   "cell_type": "markdown",
   "id": "70016849-a2c5-4f27-b187-dc4cfde3bea0",
   "metadata": {},
   "source": [
    "## One-line"
   ]
  },
  {
   "cell_type": "code",
   "execution_count": 37,
   "id": "828444ef-b892-4a0f-b46c-11966bb4b69b",
   "metadata": {},
   "outputs": [
    {
     "name": "stdout",
     "output_type": "stream",
     "text": [
      "4\n",
      "3\n",
      "2\n",
      "1\n",
      "0\n"
     ]
    }
   ],
   "source": [
    "n = 5\n",
    "while n > 0: n -= 1; print(n)\n",
    "    "
   ]
  },
  {
   "cell_type": "markdown",
   "id": "165dfa70-3a18-43ca-87bc-062483d77c80",
   "metadata": {},
   "source": [
    "## For Loops"
   ]
  },
  {
   "cell_type": "code",
   "execution_count": 43,
   "id": "ac2af8a2-e9c9-43a8-b4cb-e1b8def8a06c",
   "metadata": {},
   "outputs": [
    {
     "name": "stdout",
     "output_type": "stream",
     "text": [
      "ba\n",
      "bur\n",
      "bis\n"
     ]
    }
   ],
   "source": [
    "x = ['ba', 'bur', 'bis']\n",
    "for i in x:\n",
    "    print (i)"
   ]
  },
  {
   "cell_type": "code",
   "execution_count": 44,
   "id": "5280ad67-d041-443e-a765-20e568e7bc21",
   "metadata": {},
   "outputs": [
    {
     "name": "stdout",
     "output_type": "stream",
     "text": [
      "foo\n",
      "bar\n",
      "baz\n"
     ]
    }
   ],
   "source": [
    "d = {'foo': 1, 'bar': 2, 'baz': 3}\n",
    "for z in d:\n",
    "    print (z)"
   ]
  },
  {
   "cell_type": "code",
   "execution_count": 45,
   "id": "58341e26-e725-48d2-86e9-0b9c10ea6075",
   "metadata": {},
   "outputs": [
    {
     "name": "stdout",
     "output_type": "stream",
     "text": [
      "1\n",
      "2\n",
      "3\n"
     ]
    }
   ],
   "source": [
    "for z in d:\n",
    "    print (d[z])"
   ]
  },
  {
   "cell_type": "code",
   "execution_count": 48,
   "id": "32d049bf-df12-4f38-9259-5b55fd60ad72",
   "metadata": {},
   "outputs": [
    {
     "name": "stdout",
     "output_type": "stream",
     "text": [
      "1\n",
      "2\n",
      "3\n"
     ]
    }
   ],
   "source": [
    "for z in d.values():\n",
    "    print(z)"
   ]
  },
  {
   "cell_type": "code",
   "execution_count": 49,
   "id": "aae6d883-383d-46c5-8560-5c090c969f7c",
   "metadata": {},
   "outputs": [
    {
     "name": "stdout",
     "output_type": "stream",
     "text": [
      "foo : 1\n",
      "bar : 2\n",
      "baz : 3\n"
     ]
    }
   ],
   "source": [
    "for z, k in d.items():\n",
    "    print (z, \":\", k)"
   ]
  },
  {
   "cell_type": "markdown",
   "id": "93e9aea4-c590-4414-8aac-a66c59cbbe82",
   "metadata": {},
   "source": [
    "## Range Func"
   ]
  },
  {
   "cell_type": "code",
   "execution_count": 50,
   "id": "cab61e32-6a50-4211-b55c-d0ef18d7ad73",
   "metadata": {},
   "outputs": [
    {
     "name": "stdout",
     "output_type": "stream",
     "text": [
      "0\n",
      "1\n",
      "2\n",
      "3\n",
      "4\n"
     ]
    }
   ],
   "source": [
    "x = range(5)\n",
    "for i in x:\n",
    "    print(i)"
   ]
  },
  {
   "cell_type": "markdown",
   "id": "059c7051-f1cd-46cd-90a3-b7f487150792",
   "metadata": {},
   "source": [
    "## Break and Continue and Else"
   ]
  },
  {
   "cell_type": "code",
   "execution_count": 57,
   "id": "93c62aa3-caf3-4069-9aec-5d130a5d3486",
   "metadata": {},
   "outputs": [
    {
     "name": "stdout",
     "output_type": "stream",
     "text": [
      "bas\n"
     ]
    }
   ],
   "source": [
    "for x in ['bas', 'jus', 'lio']:\n",
    "    if 'j' in x:\n",
    "        break\n",
    "    print(x)"
   ]
  },
  {
   "cell_type": "code",
   "execution_count": 58,
   "id": "693b83ce-6953-4761-986c-dfb5f1ca5343",
   "metadata": {},
   "outputs": [
    {
     "name": "stdout",
     "output_type": "stream",
     "text": [
      "kosong\n"
     ]
    }
   ],
   "source": [
    "for x in ['bas', 'jus', 'lio']:\n",
    "    if 'b' in x:\n",
    "        break\n",
    "    print(x)\n",
    "print('kosong')"
   ]
  },
  {
   "cell_type": "code",
   "execution_count": 52,
   "id": "109d47c5-3a8d-48d6-87eb-e9f7bd525033",
   "metadata": {},
   "outputs": [
    {
     "name": "stdout",
     "output_type": "stream",
     "text": [
      "jus\n",
      "lio\n"
     ]
    }
   ],
   "source": [
    "for x in ['bas', 'jus', 'lio']:\n",
    "    if 'a' in x:\n",
    "        continue\n",
    "    print(x)"
   ]
  },
  {
   "cell_type": "code",
   "execution_count": 59,
   "id": "2732f71c-52a6-4101-ac4f-474b48d75ec3",
   "metadata": {},
   "outputs": [
    {
     "name": "stdout",
     "output_type": "stream",
     "text": [
      "bas\n",
      "jus\n",
      "lio\n",
      "done\n"
     ]
    }
   ],
   "source": [
    "for x in ['bas', 'jus', 'lio']:\n",
    "    print(x)\n",
    "else: \n",
    "    print('done')"
   ]
  },
  {
   "cell_type": "code",
   "execution_count": 60,
   "id": "ef51526b-cf01-4cde-b28d-342009a7a226",
   "metadata": {},
   "outputs": [
    {
     "name": "stdout",
     "output_type": "stream",
     "text": [
      "bas\n"
     ]
    }
   ],
   "source": [
    "for x in ['bas', 'jus', 'lio']:\n",
    "    if 'j' in x:\n",
    "        break\n",
    "    print(x)\n",
    "else:\n",
    "    print('kosong')"
   ]
  },
  {
   "cell_type": "code",
   "execution_count": 67,
   "id": "1ece3f7f-2105-48b6-bf7c-050cf4999496",
   "metadata": {},
   "outputs": [
    {
     "name": "stdin",
     "output_type": "stream",
     "text": [
      "input your temperature 90 C\n"
     ]
    },
    {
     "name": "stdout",
     "output_type": "stream",
     "text": [
      "The temperature is 194 Deg\n"
     ]
    }
   ],
   "source": [
    "temp = input(\"input your temperature\")\n",
    "degree = int (temp[:-1])\n",
    "i_convert = temp [-1]\n",
    "\n",
    "if i_convert == \"C\":\n",
    "    result = int(round((9*degree) / 5 + 32))\n",
    "elif i_convert == \"F\":\n",
    "    result = int(round((degree - 32) * 5 / 9))\n",
    "else:\n",
    "    print(\"Please input the requested format\")\n",
    "\n",
    "print(\"The temperature is\", result, \"Deg\")"
   ]
  },
  {
   "cell_type": "code",
   "execution_count": 71,
   "id": "5abbf556-1a7b-4c0d-be9c-a0946d8c3b89",
   "metadata": {},
   "outputs": [
    {
     "name": "stdin",
     "output_type": "stream",
     "text": [
      "input your temperature 10\n"
     ]
    },
    {
     "name": "stdout",
     "output_type": "stream",
     "text": [
      "Please input requested format\n"
     ]
    }
   ],
   "source": [
    "temp = input(\"input your temperature\")\n",
    "degree = int(temp[:-1])\n",
    "i_convert = temp[-1]\n",
    "\n",
    "if i_convert == \"C\":\n",
    "    result = int(round((9 * degree) / 5 + 32))\n",
    "    target_unit = \"F\"  # Target unit after conversion\n",
    "elif i_convert == \"F\":\n",
    "    result = int(round((degree - 32) * 5 / 9))\n",
    "    target_unit = \"C\"  # Target unit after conversion\n",
    "else:\n",
    "    print(\"Please input requested format\")\n",
    "    result = None\n",
    "    target_unit = None\n",
    "\n",
    "if result is not None:\n",
    "    print(f\"The converted temperature is {result}°{target_unit}\")\n"
   ]
  },
  {
   "cell_type": "code",
   "execution_count": null,
   "id": "199276b7-98d1-41c7-81f9-2d284d3f8526",
   "metadata": {},
   "outputs": [],
   "source": []
  }
 ],
 "metadata": {
  "kernelspec": {
   "display_name": "Python 3 (ipykernel)",
   "language": "python",
   "name": "python3"
  },
  "language_info": {
   "codemirror_mode": {
    "name": "ipython",
    "version": 3
   },
   "file_extension": ".py",
   "mimetype": "text/x-python",
   "name": "python",
   "nbconvert_exporter": "python",
   "pygments_lexer": "ipython3",
   "version": "3.11.9"
  }
 },
 "nbformat": 4,
 "nbformat_minor": 5
}
