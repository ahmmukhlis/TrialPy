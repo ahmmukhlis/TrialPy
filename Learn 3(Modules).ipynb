{
 "cells": [
  {
   "cell_type": "markdown",
   "id": "598e546f-37d9-479b-b7e3-e63f3dfb14e0",
   "metadata": {},
   "source": [
    "# Python Modules"
   ]
  },
  {
   "cell_type": "raw",
   "id": "cd8a8d95-1a8c-463a-bcb8-b91d16afa77d",
   "metadata": {},
   "source": [
    "## a = \"My Journey to Be A Data Scientist\"\n",
    "## b = [1000, 2000, 3000]\n",
    "## def abc (arg):\n",
    "##  print(f\"arg = {arg}\")\n",
    "## class abc:\n",
    "##    pass"
   ]
  },
  {
   "cell_type": "code",
   "execution_count": 3,
   "id": "554d7549-5b90-47f4-b079-63a1ea5345fe",
   "metadata": {},
   "outputs": [
    {
     "name": "stdout",
     "output_type": "stream",
     "text": [
      "importing Jupyter notebook from Module1.ipynb\n"
     ]
    }
   ],
   "source": [
    "import import_ipynb\n",
    "import Module1 as mod"
   ]
  },
  {
   "cell_type": "code",
   "execution_count": 4,
   "id": "03090633-2845-4dfa-9aa6-ac503a0b5777",
   "metadata": {},
   "outputs": [
    {
     "name": "stdout",
     "output_type": "stream",
     "text": [
      "My Journey to Be A Data Scientist\n"
     ]
    }
   ],
   "source": [
    "print (mod.a)"
   ]
  },
  {
   "cell_type": "code",
   "execution_count": 6,
   "id": "0cef1b77-fc1b-413e-80c4-d298f8730eb4",
   "metadata": {},
   "outputs": [
    {
     "data": {
      "text/plain": [
       "<module 'Module1' (<import_ipynb.NotebookLoader object at 0x000001DA11A9EC90>)>"
      ]
     },
     "execution_count": 6,
     "metadata": {},
     "output_type": "execute_result"
    }
   ],
   "source": [
    "mod"
   ]
  },
  {
   "cell_type": "code",
   "execution_count": 8,
   "id": "3515f5ca-f5ce-4b94-888e-bf66c74991a5",
   "metadata": {},
   "outputs": [
    {
     "data": {
      "text/plain": [
       "Module1.abc"
      ]
     },
     "execution_count": 8,
     "metadata": {},
     "output_type": "execute_result"
    }
   ],
   "source": [
    "mod.abc"
   ]
  },
  {
   "cell_type": "code",
   "execution_count": 19,
   "id": "4185a0cd-6f22-460a-b986-17dbd68ec298",
   "metadata": {},
   "outputs": [],
   "source": [
    "from mod import a"
   ]
  },
  {
   "cell_type": "code",
   "execution_count": 20,
   "id": "039c7436-7fe8-4b6e-8287-f676d623cc6c",
   "metadata": {},
   "outputs": [
    {
     "data": {
      "text/plain": [
       "'My Journey to Be A Data Scientist'"
      ]
     },
     "execution_count": 20,
     "metadata": {},
     "output_type": "execute_result"
    }
   ],
   "source": [
    "a"
   ]
  },
  {
   "cell_type": "code",
   "execution_count": 24,
   "id": "4b95ca5b-7afa-46ba-a804-e2590f8a25ed",
   "metadata": {},
   "outputs": [],
   "source": [
    "mod.abc = (['try', 'hard', 123])"
   ]
  },
  {
   "cell_type": "code",
   "execution_count": 45,
   "id": "d912d438-6130-4a5b-98e9-561910fe7436",
   "metadata": {},
   "outputs": [
    {
     "name": "stdout",
     "output_type": "stream",
     "text": [
      "['try', 'hard', 123]\n"
     ]
    }
   ],
   "source": [
    "print(mod.abc)"
   ]
  },
  {
   "cell_type": "code",
   "execution_count": 48,
   "id": "c542cfeb-7f82-4953-b711-f9ff818de0ec",
   "metadata": {},
   "outputs": [
    {
     "data": {
      "text/plain": [
       "['try', 'hard', 123]"
      ]
     },
     "execution_count": 48,
     "metadata": {},
     "output_type": "execute_result"
    }
   ],
   "source": [
    "mod.abc"
   ]
  },
  {
   "cell_type": "code",
   "execution_count": 49,
   "id": "83318f8e-4257-412e-90fa-ea6e165c1502",
   "metadata": {},
   "outputs": [
    {
     "data": {
      "text/plain": [
       "<mod.abc at 0x1da11db0ad0>"
      ]
     },
     "execution_count": 49,
     "metadata": {},
     "output_type": "execute_result"
    }
   ],
   "source": [
    "d = abc()\n",
    "d"
   ]
  },
  {
   "cell_type": "code",
   "execution_count": 60,
   "id": "b6cd7ea0-c9dc-4611-a582-2fbd3f2f3957",
   "metadata": {},
   "outputs": [],
   "source": [
    "a = 'try'\n",
    "b = ['bus', 'bar', 'baz']"
   ]
  },
  {
   "cell_type": "code",
   "execution_count": 62,
   "id": "75b3cf43-f907-4bc9-9068-6ca1f7114d9b",
   "metadata": {},
   "outputs": [],
   "source": [
    "from mod import a as string, b as alist"
   ]
  },
  {
   "cell_type": "code",
   "execution_count": 66,
   "id": "70226c26-4654-4481-9d07-e81dc8c2671f",
   "metadata": {},
   "outputs": [
    {
     "data": {
      "text/plain": [
       "'try'"
      ]
     },
     "execution_count": 66,
     "metadata": {},
     "output_type": "execute_result"
    }
   ],
   "source": [
    "a # your a became 'try'"
   ]
  },
  {
   "cell_type": "code",
   "execution_count": 67,
   "id": "e35c7ae8-ab2b-411c-9991-e8850feaac55",
   "metadata": {},
   "outputs": [
    {
     "data": {
      "text/plain": [
       "'My Journey to Be A Data Scientist'"
      ]
     },
     "execution_count": 67,
     "metadata": {},
     "output_type": "execute_result"
    }
   ],
   "source": [
    "string # now, your a value in module 1 named as string "
   ]
  },
  {
   "cell_type": "code",
   "execution_count": 72,
   "id": "981129aa-049c-4f95-91cd-a9664ae52553",
   "metadata": {},
   "outputs": [
    {
     "data": {
      "text/plain": [
       "['bus', 'bar', 'baz']"
      ]
     },
     "execution_count": 72,
     "metadata": {},
     "output_type": "execute_result"
    }
   ],
   "source": [
    "b # your b became new function as modified function"
   ]
  },
  {
   "cell_type": "code",
   "execution_count": 74,
   "id": "781925b5-f1ff-4b43-af6b-29bcca4d5635",
   "metadata": {},
   "outputs": [
    {
     "data": {
      "text/plain": [
       "[1000, 2000, 3000]"
      ]
     },
     "execution_count": 74,
     "metadata": {},
     "output_type": "execute_result"
    }
   ],
   "source": [
    "alist # your have alist, the value as b in module1"
   ]
  },
  {
   "cell_type": "code",
   "execution_count": 77,
   "id": "2d7d1166-e2e5-40f4-b3bb-a690984ac460",
   "metadata": {},
   "outputs": [
    {
     "name": "stdout",
     "output_type": "stream",
     "text": [
      "Object not found in module\n"
     ]
    }
   ],
   "source": [
    "try:  #try statement allows you to customize the description when the function doesnt exist\n",
    "    from mod import bam\n",
    "except ImportError:\n",
    "    print('Object not found in module')"
   ]
  },
  {
   "cell_type": "code",
   "execution_count": 78,
   "id": "3c963dc2-2e65-4790-81f7-e89f1ce3fb5f",
   "metadata": {},
   "outputs": [
    {
     "data": {
      "text/plain": [
       "['In',\n",
       " 'Out',\n",
       " '_',\n",
       " '_13',\n",
       " '_14',\n",
       " '_20',\n",
       " '_32',\n",
       " '_33',\n",
       " '_34',\n",
       " '_35',\n",
       " '_39',\n",
       " '_40',\n",
       " '_42',\n",
       " '_43',\n",
       " '_48',\n",
       " '_49',\n",
       " '_5',\n",
       " '_51',\n",
       " '_52',\n",
       " '_53',\n",
       " '_54',\n",
       " '_55',\n",
       " '_6',\n",
       " '_63',\n",
       " '_64',\n",
       " '_65',\n",
       " '_66',\n",
       " '_67',\n",
       " '_68',\n",
       " '_69',\n",
       " '_70',\n",
       " '_71',\n",
       " '_72',\n",
       " '_73',\n",
       " '_74',\n",
       " '_8',\n",
       " '__',\n",
       " '___',\n",
       " '__builtin__',\n",
       " '__builtins__',\n",
       " '__doc__',\n",
       " '__loader__',\n",
       " '__name__',\n",
       " '__package__',\n",
       " '__session__',\n",
       " '__spec__',\n",
       " '_dh',\n",
       " '_i',\n",
       " '_i1',\n",
       " '_i10',\n",
       " '_i11',\n",
       " '_i12',\n",
       " '_i13',\n",
       " '_i14',\n",
       " '_i15',\n",
       " '_i16',\n",
       " '_i17',\n",
       " '_i18',\n",
       " '_i19',\n",
       " '_i2',\n",
       " '_i20',\n",
       " '_i21',\n",
       " '_i22',\n",
       " '_i23',\n",
       " '_i24',\n",
       " '_i25',\n",
       " '_i26',\n",
       " '_i27',\n",
       " '_i28',\n",
       " '_i29',\n",
       " '_i3',\n",
       " '_i30',\n",
       " '_i31',\n",
       " '_i32',\n",
       " '_i33',\n",
       " '_i34',\n",
       " '_i35',\n",
       " '_i36',\n",
       " '_i37',\n",
       " '_i38',\n",
       " '_i39',\n",
       " '_i4',\n",
       " '_i40',\n",
       " '_i41',\n",
       " '_i42',\n",
       " '_i43',\n",
       " '_i44',\n",
       " '_i45',\n",
       " '_i46',\n",
       " '_i47',\n",
       " '_i48',\n",
       " '_i49',\n",
       " '_i5',\n",
       " '_i50',\n",
       " '_i51',\n",
       " '_i52',\n",
       " '_i53',\n",
       " '_i54',\n",
       " '_i55',\n",
       " '_i56',\n",
       " '_i57',\n",
       " '_i58',\n",
       " '_i59',\n",
       " '_i6',\n",
       " '_i60',\n",
       " '_i61',\n",
       " '_i62',\n",
       " '_i63',\n",
       " '_i64',\n",
       " '_i65',\n",
       " '_i66',\n",
       " '_i67',\n",
       " '_i68',\n",
       " '_i69',\n",
       " '_i7',\n",
       " '_i70',\n",
       " '_i71',\n",
       " '_i72',\n",
       " '_i73',\n",
       " '_i74',\n",
       " '_i75',\n",
       " '_i76',\n",
       " '_i77',\n",
       " '_i78',\n",
       " '_i8',\n",
       " '_i9',\n",
       " '_ih',\n",
       " '_ii',\n",
       " '_iii',\n",
       " '_oh',\n",
       " 'a',\n",
       " 'abc',\n",
       " 'alist',\n",
       " 'b',\n",
       " 'd',\n",
       " 'exit',\n",
       " 'get_ipython',\n",
       " 'import_ipynb',\n",
       " 'mod',\n",
       " 'open',\n",
       " 'quit',\n",
       " 'string',\n",
       " 'x']"
      ]
     },
     "execution_count": 78,
     "metadata": {},
     "output_type": "execute_result"
    }
   ],
   "source": [
    "dir ()"
   ]
  },
  {
   "cell_type": "code",
   "execution_count": 80,
   "id": "ea3232b3-4c2d-4881-8378-935f4dac2258",
   "metadata": {},
   "outputs": [
    {
     "data": {
      "text/plain": [
       "['__builtins__',\n",
       " '__doc__',\n",
       " '__file__',\n",
       " '__loader__',\n",
       " '__name__',\n",
       " '__package__',\n",
       " '__spec__',\n",
       " 'a',\n",
       " 'abc',\n",
       " 'b',\n",
       " 'get_ipython',\n",
       " 'sys']"
      ]
     },
     "execution_count": 80,
     "metadata": {},
     "output_type": "execute_result"
    }
   ],
   "source": [
    "dir (mod)"
   ]
  },
  {
   "cell_type": "code",
   "execution_count": null,
   "id": "21afd679-10d9-46c3-9733-fecb2191894d",
   "metadata": {},
   "outputs": [],
   "source": []
  }
 ],
 "metadata": {
  "kernelspec": {
   "display_name": "Python 3 (ipykernel)",
   "language": "python",
   "name": "python3"
  },
  "language_info": {
   "codemirror_mode": {
    "name": "ipython",
    "version": 3
   },
   "file_extension": ".py",
   "mimetype": "text/x-python",
   "name": "python",
   "nbconvert_exporter": "python",
   "pygments_lexer": "ipython3",
   "version": "3.11.9"
  }
 },
 "nbformat": 4,
 "nbformat_minor": 5
}
